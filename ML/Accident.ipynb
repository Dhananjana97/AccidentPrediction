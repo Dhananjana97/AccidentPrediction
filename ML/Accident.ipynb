{
  "nbformat": 4,
  "nbformat_minor": 0,
  "metadata": {
    "colab": {
      "name": "Accident.ipynb",
      "provenance": []
    },
    "kernelspec": {
      "name": "python3",
      "display_name": "Python 3"
    }
  },
  "cells": [
    {
      "cell_type": "code",
      "metadata": {
        "id": "pdk9ZrV4f2em",
        "colab_type": "code",
        "outputId": "c7ea8b0b-3a3d-4b44-8662-8c442beee2e1",
        "colab": {
          "base_uri": "https://localhost:8080/",
          "height": 124
        }
      },
      "source": [
        "from google.colab import drive\n",
        "drive.mount('/content/gdrive')"
      ],
      "execution_count": 0,
      "outputs": [
        {
          "output_type": "stream",
          "text": [
            "Go to this URL in a browser: https://accounts.google.com/o/oauth2/auth?client_id=947318989803-6bn6qk8qdgf4n4g3pfee6491hc0brc4i.apps.googleusercontent.com&redirect_uri=urn%3aietf%3awg%3aoauth%3a2.0%3aoob&response_type=code&scope=email%20https%3a%2f%2fwww.googleapis.com%2fauth%2fdocs.test%20https%3a%2f%2fwww.googleapis.com%2fauth%2fdrive%20https%3a%2f%2fwww.googleapis.com%2fauth%2fdrive.photos.readonly%20https%3a%2f%2fwww.googleapis.com%2fauth%2fpeopleapi.readonly\n",
            "\n",
            "Enter your authorization code:\n",
            "··········\n",
            "Mounted at /content/gdrive\n"
          ],
          "name": "stdout"
        }
      ]
    },
    {
      "cell_type": "code",
      "metadata": {
        "id": "OaC3jNXCghcx",
        "colab_type": "code",
        "colab": {}
      },
      "source": [
        "import pandas as pd\n"
      ],
      "execution_count": 0,
      "outputs": []
    },
    {
      "cell_type": "code",
      "metadata": {
        "id": "VN_E54hcnfNP",
        "colab_type": "code",
        "colab": {}
      },
      "source": [
        "data_sets= []\n",
        "data_sets.append(pd.read_csv(\"/content/gdrive/My Drive/a/2013.csv\", encoding=\"ISO-8859-1\"))\n",
        "data_sets.append(pd.read_csv(\"/content/gdrive/My Drive/a/2012.csv\", encoding=\"ISO-8859-1\"))"
      ],
      "execution_count": 0,
      "outputs": []
    },
    {
      "cell_type": "code",
      "metadata": {
        "id": "qgDhz2HAnjRQ",
        "colab_type": "code",
        "outputId": "6adbe98a-40b5-401b-8c8b-308bffcd0f05",
        "colab": {
          "base_uri": "https://localhost:8080/",
          "height": 417
        }
      },
      "source": [
        "data_sets[1].head(4)"
      ],
      "execution_count": 0,
      "outputs": [
        {
          "output_type": "execute_result",
          "data": {
            "text/html": [
              "<div>\n",
              "<style scoped>\n",
              "    .dataframe tbody tr th:only-of-type {\n",
              "        vertical-align: middle;\n",
              "    }\n",
              "\n",
              "    .dataframe tbody tr th {\n",
              "        vertical-align: top;\n",
              "    }\n",
              "\n",
              "    .dataframe thead th {\n",
              "        text-align: right;\n",
              "    }\n",
              "</style>\n",
              "<table border=\"1\" class=\"dataframe\">\n",
              "  <thead>\n",
              "    <tr style=\"text-align: right;\">\n",
              "      <th></th>\n",
              "      <th>Reference Number</th>\n",
              "      <th>Easting</th>\n",
              "      <th>Northing</th>\n",
              "      <th>Number of Vehicles</th>\n",
              "      <th>Accident Date</th>\n",
              "      <th>Time (24hr)</th>\n",
              "      <th>1st Road Class</th>\n",
              "      <th>Road Surface</th>\n",
              "      <th>Lighting Conditions</th>\n",
              "      <th>Weather Conditions</th>\n",
              "      <th>Casualty Class</th>\n",
              "      <th>Casualty Severity</th>\n",
              "      <th>Sex of Casualty</th>\n",
              "      <th>Age of Casualty</th>\n",
              "      <th>Type of Vehicle</th>\n",
              "      <th>Holiday</th>\n",
              "    </tr>\n",
              "  </thead>\n",
              "  <tbody>\n",
              "    <tr>\n",
              "      <th>0</th>\n",
              "      <td>120033394</td>\n",
              "      <td>430536</td>\n",
              "      <td>433129</td>\n",
              "      <td>1</td>\n",
              "      <td>1/22/2012</td>\n",
              "      <td>255</td>\n",
              "      <td>Unclassified</td>\n",
              "      <td>Dry</td>\n",
              "      <td>Darkness: street lighting unknown</td>\n",
              "      <td>Fine without high winds</td>\n",
              "      <td>Pedestrian</td>\n",
              "      <td>Serious</td>\n",
              "      <td>Female</td>\n",
              "      <td>28</td>\n",
              "      <td>Car</td>\n",
              "      <td>False</td>\n",
              "    </tr>\n",
              "    <tr>\n",
              "      <th>1</th>\n",
              "      <td>120034263</td>\n",
              "      <td>427301</td>\n",
              "      <td>434682</td>\n",
              "      <td>2</td>\n",
              "      <td>1/23/2012</td>\n",
              "      <td>800</td>\n",
              "      <td>A</td>\n",
              "      <td>Wet / Damp</td>\n",
              "      <td>Daylight: street lights present</td>\n",
              "      <td>Raining without high winds</td>\n",
              "      <td>Driver</td>\n",
              "      <td>Slight</td>\n",
              "      <td>Male</td>\n",
              "      <td>19</td>\n",
              "      <td>Motorcycle over 50cc and up to 125cc</td>\n",
              "      <td>False</td>\n",
              "    </tr>\n",
              "    <tr>\n",
              "      <th>2</th>\n",
              "      <td>120034970</td>\n",
              "      <td>422201</td>\n",
              "      <td>433910</td>\n",
              "      <td>1</td>\n",
              "      <td>1/23/2012</td>\n",
              "      <td>1345</td>\n",
              "      <td>B</td>\n",
              "      <td>Dry</td>\n",
              "      <td>Daylight: street lights present</td>\n",
              "      <td>Fine without high winds</td>\n",
              "      <td>Pedestrian</td>\n",
              "      <td>Serious</td>\n",
              "      <td>Female</td>\n",
              "      <td>73</td>\n",
              "      <td>Car</td>\n",
              "      <td>False</td>\n",
              "    </tr>\n",
              "    <tr>\n",
              "      <th>3</th>\n",
              "      <td>120035568</td>\n",
              "      <td>428891</td>\n",
              "      <td>431676</td>\n",
              "      <td>1</td>\n",
              "      <td>1/24/2012</td>\n",
              "      <td>117</td>\n",
              "      <td>Unclassified</td>\n",
              "      <td>Wet / Damp</td>\n",
              "      <td>Darkness: street lights present and lit</td>\n",
              "      <td>Fine without high winds</td>\n",
              "      <td>Driver</td>\n",
              "      <td>Serious</td>\n",
              "      <td>Male</td>\n",
              "      <td>19</td>\n",
              "      <td>Car</td>\n",
              "      <td>False</td>\n",
              "    </tr>\n",
              "  </tbody>\n",
              "</table>\n",
              "</div>"
            ],
            "text/plain": [
              "   Reference Number  Easting  ...                       Type of Vehicle  Holiday\n",
              "0         120033394   430536  ...                                   Car    False\n",
              "1         120034263   427301  ...  Motorcycle over 50cc and up to 125cc    False\n",
              "2         120034970   422201  ...                                   Car    False\n",
              "3         120035568   428891  ...                                   Car    False\n",
              "\n",
              "[4 rows x 16 columns]"
            ]
          },
          "metadata": {
            "tags": []
          },
          "execution_count": 4
        }
      ]
    },
    {
      "cell_type": "code",
      "metadata": {
        "id": "BJdGCI8oq1H9",
        "colab_type": "code",
        "outputId": "e58c1862-5a4b-4891-87b3-aad699db0c40",
        "colab": {
          "base_uri": "https://localhost:8080/",
          "height": 312
        }
      },
      "source": [
        "data_sets[1].isnull().sum()"
      ],
      "execution_count": 0,
      "outputs": [
        {
          "output_type": "execute_result",
          "data": {
            "text/plain": [
              "Reference Number         0\n",
              "Easting                  0\n",
              "Northing                 0\n",
              "Number of Vehicles       0\n",
              "Accident Date            0\n",
              "Time (24hr)              0\n",
              "1st Road Class           0\n",
              "Road Surface             0\n",
              "Lighting Conditions      0\n",
              "Weather Conditions       0\n",
              "Casualty Class           0\n",
              "Casualty Severity        0\n",
              "Sex of Casualty          0\n",
              "Age of Casualty          0\n",
              "Type of Vehicle          0\n",
              "Holiday                315\n",
              "dtype: int64"
            ]
          },
          "metadata": {
            "tags": []
          },
          "execution_count": 5
        }
      ]
    },
    {
      "cell_type": "code",
      "metadata": {
        "id": "uU7Aa2io3aMJ",
        "colab_type": "code",
        "colab": {}
      },
      "source": [
        "def_rows = ['time', 'year', 'day', 'month','Road Surfce','lighting_conditions', 'Easting']"
      ],
      "execution_count": 0,
      "outputs": []
    },
    {
      "cell_type": "code",
      "metadata": {
        "id": "UWhYVdTz4MZM",
        "colab_type": "code",
        "outputId": "e2b24cff-4549-4cd8-81cb-063084d6d96d",
        "colab": {
          "base_uri": "https://localhost:8080/",
          "height": 35
        }
      },
      "source": [
        "data_sets[1]['Road Surface'].unique()\n",
        "data_sets[0]['Road Surface'].unique()"
      ],
      "execution_count": 0,
      "outputs": [
        {
          "output_type": "execute_result",
          "data": {
            "text/plain": [
              "array(['Dry', 'Frost / Ice', 'Wet / Damp', 'Snow'], dtype=object)"
            ]
          },
          "metadata": {
            "tags": []
          },
          "execution_count": 94
        }
      ]
    },
    {
      "cell_type": "code",
      "metadata": {
        "id": "4cqHZ9bV4Rcb",
        "colab_type": "code",
        "outputId": "22856b72-b162-4bba-c43d-285d0615ef56",
        "colab": {
          "base_uri": "https://localhost:8080/",
          "height": 87
        }
      },
      "source": [
        "data_sets[1]['Lighting Conditions'].unique()"
      ],
      "execution_count": 0,
      "outputs": [
        {
          "output_type": "execute_result",
          "data": {
            "text/plain": [
              "array(['Darkness: street lighting unknown',\n",
              "       'Daylight: street lights present',\n",
              "       'Darkness: street lights present and lit',\n",
              "       'Darkness: no street lighting', '5'], dtype=object)"
            ]
          },
          "metadata": {
            "tags": []
          },
          "execution_count": 95
        }
      ]
    },
    {
      "cell_type": "code",
      "metadata": {
        "id": "82iQJyCT6Muf",
        "colab_type": "code",
        "outputId": "1c89183e-19dc-446c-cd6a-f3f3bb34ec07",
        "colab": {
          "base_uri": "https://localhost:8080/",
          "height": 87
        }
      },
      "source": [
        "data_sets[1]['Weather Conditions'].unique()"
      ],
      "execution_count": 0,
      "outputs": [
        {
          "output_type": "execute_result",
          "data": {
            "text/plain": [
              "array(['Fine without high winds', 'Raining without high winds',\n",
              "       'Raining with high winds', 'Fine with high winds',\n",
              "       'Snowing without high winds', 'Other', 'Unknown',\n",
              "       'Fog or mist \\x96 if hazard'], dtype=object)"
            ]
          },
          "metadata": {
            "tags": []
          },
          "execution_count": 96
        }
      ]
    },
    {
      "cell_type": "code",
      "metadata": {
        "id": "sE71vnOV168L",
        "colab_type": "code",
        "colab": {}
      },
      "source": [
        "def_rows = ['City', 'Road Surface', 'Lighting Conditions', 'Holiday', 'Weather Conditions']\n",
        "data_sets[0]['Road Surface'] = data_sets[0]['Road Surface'].apply(lambda x: 'Wet / Damp' if x=='Snow' else x)\n",
        "data_sets[1]['Road Surface'] = data_sets[1]['Road Surface'].apply(lambda x: 'Wet / Damp' if x=='Snow' else x)\n",
        "\n",
        "data_sets[0]['Road Surface'] = data_sets[0]['Road Surface'].apply(lambda x: 'Dry' if x=='5' else x)\n",
        "data_sets[1]['Road Surface'] = data_sets[1]['Road Surface'].apply(lambda x: 'Dry' if x=='5' else x)\n",
        "\n",
        "data_sets[0]['Lighting Conditions'] = data_sets[0]['Lighting Conditions'].apply(lambda x: 'Darkness: no street lighting' if x=='5' else x)\n",
        "data_sets[1]['Lighting Conditions'] = data_sets[1]['Lighting Conditions'].apply(lambda x: 'Daylight: street lights present' if x=='5' else x)"
      ],
      "execution_count": 0,
      "outputs": []
    },
    {
      "cell_type": "code",
      "metadata": {
        "id": "VTJUfEK8GCm6",
        "colab_type": "code",
        "colab": {}
      },
      "source": [
        "cities = [\"Akkaraipattu\", \"Ambalangoda\", \"Ampara\", \"Anuradhapura\", \"Badulla\", \"Balangoda\", \"Bandarawela\", \"Batticaloa\", \"Beruwala\", \"Boralesgamuwa\", \"Chavakachcheri\", \"Chilaw\", \"Colombo\", \"Dambulla\", \"Dehiwala-Mount Lavinia\", \"Embilipitiya\", \"Eravur\", \"Galle\", \"Gampaha\", \"Gampola\", \"Hambantota\", \"Haputale\", \"Hatton-Dickoya\", \"Hikkaduwa\", \"Horana\", \"Ja-Ela\", \"Jaffna\", \"Kadugannawa\", \"Kaduwela\", \"Kalmunai\", \"Kalutara\", \"Kandy\", \"Kattankudy\", \"Katunayake\", \"Kegalle\", \"Kesbewa\", \"Kilinochchi\", \"Kinniya\", \"Kolonnawa\", \"Kuliyapitiya\", \"Kurunegala\", \"Maharagama\", \"Mannar\", \"Matale\", \"Matara\", \"Minuwangoda\", \"Moneragala\", \"Moratuwa\", \"Mullaitivu\", \"Nawalapitiya\", \"Negombo\", \"Nuwara Eliya\", \"Panadura\", \"Peliyagoda\", \"Point Pedro\", \"Polonnaruwa\", \"Puttalam\", \"Ratnapura\", \"Seethawakapura\", \"Sri Jayawardenepura\", \"Tangalle\", \"Thalawakele-Lindula\", \"Trincomalee\", \"Valvettithurai\", \"Vavuniya\", \"Wattala-Mabole\", \"Wattegama\", \"Weligama\"]\n",
        "import random \n",
        "\n",
        "def random_cities(dataset):\n",
        "  k = dataset.shape[0]\n",
        "  selected_cities = []\n",
        "  for i in range(0, k):\n",
        "    selected_cities.append(cities[random.randint(0, len(cities)-1)])\n",
        "  dataset['City'] = selected_cities\n",
        "  return dataset\n",
        "\n",
        "data_sets[0] = random_cities(data_sets[0])\n",
        "data_sets[1] = random_cities(data_sets[1])"
      ],
      "execution_count": 0,
      "outputs": []
    },
    {
      "cell_type": "code",
      "metadata": {
        "id": "3caxBmt62tgI",
        "colab_type": "code",
        "colab": {}
      },
      "source": [
        "data_comb = pd.concat([data_sets[0] , data_sets[1]])\n",
        "df = data_comb.groupby(by=def_rows).size().to_frame('No Accidents').reset_index()"
      ],
      "execution_count": 0,
      "outputs": []
    },
    {
      "cell_type": "code",
      "metadata": {
        "id": "UT41s_La17Rp",
        "colab_type": "code",
        "outputId": "9dc6b693-e941-4fef-cc24-723a0f5e7a04",
        "colab": {
          "base_uri": "https://localhost:8080/",
          "height": 202
        }
      },
      "source": [
        "df.head()"
      ],
      "execution_count": 0,
      "outputs": [
        {
          "output_type": "execute_result",
          "data": {
            "text/html": [
              "<div>\n",
              "<style scoped>\n",
              "    .dataframe tbody tr th:only-of-type {\n",
              "        vertical-align: middle;\n",
              "    }\n",
              "\n",
              "    .dataframe tbody tr th {\n",
              "        vertical-align: top;\n",
              "    }\n",
              "\n",
              "    .dataframe thead th {\n",
              "        text-align: right;\n",
              "    }\n",
              "</style>\n",
              "<table border=\"1\" class=\"dataframe\">\n",
              "  <thead>\n",
              "    <tr style=\"text-align: right;\">\n",
              "      <th></th>\n",
              "      <th>City</th>\n",
              "      <th>Road Surface</th>\n",
              "      <th>Lighting Conditions</th>\n",
              "      <th>Holiday</th>\n",
              "      <th>Weather Conditions</th>\n",
              "      <th>No Accidents</th>\n",
              "    </tr>\n",
              "  </thead>\n",
              "  <tbody>\n",
              "    <tr>\n",
              "      <th>0</th>\n",
              "      <td>Akkaraipattu</td>\n",
              "      <td>Dry</td>\n",
              "      <td>Darkness: no street lighting</td>\n",
              "      <td>False</td>\n",
              "      <td>Fine without high winds</td>\n",
              "      <td>1</td>\n",
              "    </tr>\n",
              "    <tr>\n",
              "      <th>1</th>\n",
              "      <td>Akkaraipattu</td>\n",
              "      <td>Dry</td>\n",
              "      <td>Darkness: street lighting unknown</td>\n",
              "      <td>False</td>\n",
              "      <td>Fine without high winds</td>\n",
              "      <td>13</td>\n",
              "    </tr>\n",
              "    <tr>\n",
              "      <th>2</th>\n",
              "      <td>Akkaraipattu</td>\n",
              "      <td>Dry</td>\n",
              "      <td>Darkness: street lights present and lit</td>\n",
              "      <td>False</td>\n",
              "      <td>Fine without high winds</td>\n",
              "      <td>6</td>\n",
              "    </tr>\n",
              "    <tr>\n",
              "      <th>3</th>\n",
              "      <td>Akkaraipattu</td>\n",
              "      <td>Dry</td>\n",
              "      <td>Daylight: street lights present</td>\n",
              "      <td>False</td>\n",
              "      <td>Fine without high winds</td>\n",
              "      <td>34</td>\n",
              "    </tr>\n",
              "    <tr>\n",
              "      <th>4</th>\n",
              "      <td>Akkaraipattu</td>\n",
              "      <td>Wet / Damp</td>\n",
              "      <td>Darkness: street lighting unknown</td>\n",
              "      <td>False</td>\n",
              "      <td>Raining without high winds</td>\n",
              "      <td>1</td>\n",
              "    </tr>\n",
              "  </tbody>\n",
              "</table>\n",
              "</div>"
            ],
            "text/plain": [
              "           City Road Surface  ...          Weather Conditions  No Accidents\n",
              "0  Akkaraipattu          Dry  ...     Fine without high winds             1\n",
              "1  Akkaraipattu          Dry  ...     Fine without high winds            13\n",
              "2  Akkaraipattu          Dry  ...     Fine without high winds             6\n",
              "3  Akkaraipattu          Dry  ...     Fine without high winds            34\n",
              "4  Akkaraipattu   Wet / Damp  ...  Raining without high winds             1\n",
              "\n",
              "[5 rows x 6 columns]"
            ]
          },
          "metadata": {
            "tags": []
          },
          "execution_count": 101
        }
      ]
    },
    {
      "cell_type": "code",
      "metadata": {
        "id": "YZeG4ntK_HIx",
        "colab_type": "code",
        "colab": {}
      },
      "source": [
        "data_comb = data_comb.drop(columns=['Easting','Northing', \"Type of Vehicle\"])\n",
        "data_comb.to_csv(\"/content/gdrive/My Drive/a/DataSet_v1.0.csv\", index=False)"
      ],
      "execution_count": 0,
      "outputs": []
    },
    {
      "cell_type": "code",
      "metadata": {
        "id": "SGa67jmKIAMz",
        "colab_type": "code",
        "outputId": "6158b3ec-0206-45f2-e1b8-d4eef279182b",
        "colab": {
          "base_uri": "https://localhost:8080/",
          "height": 417
        }
      },
      "source": [
        "data_sets[0].head(4)"
      ],
      "execution_count": 0,
      "outputs": [
        {
          "output_type": "execute_result",
          "data": {
            "text/html": [
              "<div>\n",
              "<style scoped>\n",
              "    .dataframe tbody tr th:only-of-type {\n",
              "        vertical-align: middle;\n",
              "    }\n",
              "\n",
              "    .dataframe tbody tr th {\n",
              "        vertical-align: top;\n",
              "    }\n",
              "\n",
              "    .dataframe thead th {\n",
              "        text-align: right;\n",
              "    }\n",
              "</style>\n",
              "<table border=\"1\" class=\"dataframe\">\n",
              "  <thead>\n",
              "    <tr style=\"text-align: right;\">\n",
              "      <th></th>\n",
              "      <th>Reference Number</th>\n",
              "      <th>Grid Ref: Easting</th>\n",
              "      <th>Grid Ref: Northing</th>\n",
              "      <th>Number of Vehicles</th>\n",
              "      <th>Accident Date</th>\n",
              "      <th>Time (24hr)</th>\n",
              "      <th>1st Road Class</th>\n",
              "      <th>Road Surface</th>\n",
              "      <th>Lighting Conditions</th>\n",
              "      <th>Weather Conditions</th>\n",
              "      <th>Casualty Class</th>\n",
              "      <th>Unnamed: 11</th>\n",
              "      <th>Casualty Severity</th>\n",
              "      <th>Sex of Casualty</th>\n",
              "      <th>Age of Casualty</th>\n",
              "      <th>Vehicle type</th>\n",
              "      <th>Holiday</th>\n",
              "      <th>City</th>\n",
              "    </tr>\n",
              "  </thead>\n",
              "  <tbody>\n",
              "    <tr>\n",
              "      <th>0</th>\n",
              "      <td>130021591</td>\n",
              "      <td>426983</td>\n",
              "      <td>433434</td>\n",
              "      <td>3</td>\n",
              "      <td>1/15/2013</td>\n",
              "      <td>1545</td>\n",
              "      <td>Unclassified</td>\n",
              "      <td>Dry</td>\n",
              "      <td>Daylight: street lights present</td>\n",
              "      <td>Fine without high winds</td>\n",
              "      <td>1</td>\n",
              "      <td>Driver</td>\n",
              "      <td>Slight</td>\n",
              "      <td>Male</td>\n",
              "      <td>42</td>\n",
              "      <td>Car</td>\n",
              "      <td>False</td>\n",
              "      <td>Matara</td>\n",
              "    </tr>\n",
              "    <tr>\n",
              "      <th>1</th>\n",
              "      <td>130021629</td>\n",
              "      <td>424366</td>\n",
              "      <td>445442</td>\n",
              "      <td>2</td>\n",
              "      <td>1/15/2013</td>\n",
              "      <td>1640</td>\n",
              "      <td>A</td>\n",
              "      <td>Frost / Ice</td>\n",
              "      <td>Darkness: street lights present and lit</td>\n",
              "      <td>Other</td>\n",
              "      <td>2</td>\n",
              "      <td>Passenger</td>\n",
              "      <td>Slight</td>\n",
              "      <td>Female</td>\n",
              "      <td>78</td>\n",
              "      <td>Car</td>\n",
              "      <td>False</td>\n",
              "      <td>Peliyagoda</td>\n",
              "    </tr>\n",
              "    <tr>\n",
              "      <th>2</th>\n",
              "      <td>130021704</td>\n",
              "      <td>424481</td>\n",
              "      <td>435632</td>\n",
              "      <td>2</td>\n",
              "      <td>1/13/2013</td>\n",
              "      <td>1345</td>\n",
              "      <td>Unclassified</td>\n",
              "      <td>Wet / Damp</td>\n",
              "      <td>Daylight: street lights present</td>\n",
              "      <td>Fine without high winds</td>\n",
              "      <td>1</td>\n",
              "      <td>Driver</td>\n",
              "      <td>Serious</td>\n",
              "      <td>Male</td>\n",
              "      <td>34</td>\n",
              "      <td>Motorcycle over 125cc and up to 500cc</td>\n",
              "      <td>False</td>\n",
              "      <td>Embilipitiya</td>\n",
              "    </tr>\n",
              "    <tr>\n",
              "      <th>3</th>\n",
              "      <td>130022047</td>\n",
              "      <td>430284</td>\n",
              "      <td>432421</td>\n",
              "      <td>1</td>\n",
              "      <td>1/15/2013</td>\n",
              "      <td>1313</td>\n",
              "      <td>Unclassified</td>\n",
              "      <td>Dry</td>\n",
              "      <td>Daylight: street lights present</td>\n",
              "      <td>Fine without high winds</td>\n",
              "      <td>3</td>\n",
              "      <td>Pedestrian</td>\n",
              "      <td>Slight</td>\n",
              "      <td>Male</td>\n",
              "      <td>47</td>\n",
              "      <td>Car</td>\n",
              "      <td>False</td>\n",
              "      <td>Moratuwa</td>\n",
              "    </tr>\n",
              "  </tbody>\n",
              "</table>\n",
              "</div>"
            ],
            "text/plain": [
              "  Reference Number  Grid Ref: Easting  ...  Holiday          City\n",
              "0        130021591             426983  ...    False        Matara\n",
              "1        130021629             424366  ...    False    Peliyagoda\n",
              "2        130021704             424481  ...    False  Embilipitiya\n",
              "3        130022047             430284  ...    False      Moratuwa\n",
              "\n",
              "[4 rows x 18 columns]"
            ]
          },
          "metadata": {
            "tags": []
          },
          "execution_count": 70
        }
      ]
    },
    {
      "cell_type": "code",
      "metadata": {
        "id": "85Z0L_s06fUE",
        "colab_type": "code",
        "outputId": "d4d2f2c3-050b-4ea8-eef4-25b670819346",
        "colab": {
          "base_uri": "https://localhost:8080/",
          "height": 225
        }
      },
      "source": [
        "import matplotlib.pyplot as plt\n",
        "import seaborn as sns\n",
        "\n",
        "f, ax = plt.subplots(figsize=(7, 3))\n",
        "sns.countplot(y=\"road_surface\", data=dataframe, color=\"c\");"
      ],
      "execution_count": 0,
      "outputs": [
        {
          "output_type": "display_data",
          "data": {
            "image/png": "[encoded data removed]",
            "text/plain": [
              "<Figure size 504x216 with 1 Axes>"
            ]
          },
          "metadata": {
            "tags": []
          }
        }
      ]
    },
    {
      "cell_type": "code",
      "metadata": {
        "id": "Z6q4caLF7AwV",
        "colab_type": "code",
        "outputId": "c50111a4-4d6d-46af-c631-bd96222be518",
        "colab": {
          "base_uri": "https://localhost:8080/",
          "height": 225
        }
      },
      "source": [
        "\n",
        "f, ax = plt.subplots(figsize=(7, 3))\n",
        "sns.countplot(y=\"lighting_conditions\", data=dataframe, color=\"c\");"
      ],
      "execution_count": 0,
      "outputs": [
        {
          "output_type": "display_data",
          "data": {
            "image/png": "[encoded data removed]",
            "text/plain": [
              "<Figure size 504x216 with 1 Axes>"
            ]
          },
          "metadata": {
            "tags": []
          }
        }
      ]
    },
    {
      "cell_type": "code",
      "metadata": {
        "id": "syZP-qI6-Lef",
        "colab_type": "code",
        "outputId": "31742bb8-9974-44b6-f26c-0b6fffd2a400",
        "colab": {
          "base_uri": "https://localhost:8080/",
          "height": 243
        }
      },
      "source": [
        "dataframe.groupby(by=\"grid_ref_easting\").size()"
      ],
      "execution_count": 0,
      "outputs": [
        {
          "output_type": "execute_result",
          "data": {
            "text/plain": [
              "grid_ref_easting\n",
              "414747    1\n",
              "415274    2\n",
              "416576    1\n",
              "417892    1\n",
              "417948    1\n",
              "         ..\n",
              "444753    1\n",
              "444812    1\n",
              "445376    3\n",
              "445500    1\n",
              "445576    1\n",
              "Length: 1637, dtype: int64"
            ]
          },
          "metadata": {
            "tags": []
          },
          "execution_count": 29
        }
      ]
    },
    {
      "cell_type": "code",
      "metadata": {
        "id": "5SUDdD3d_ueT",
        "colab_type": "code",
        "outputId": "ca7d5afb-51b6-4d33-eb64-05b8268b8d14",
        "colab": {
          "base_uri": "https://localhost:8080/",
          "height": 52
        }
      },
      "source": [
        "print(\"grid_ref_northing bins :\",len(dataframe['grid_ref_northing'].unique()))\n",
        "print(\"grid_ref_easting bins :\",len(dataframe['grid_ref_easting'].unique()))"
      ],
      "execution_count": 0,
      "outputs": [
        {
          "output_type": "stream",
          "text": [
            "grid_ref_northing bins : 1636\n",
            "grid_ref_easting bins : 1637\n"
          ],
          "name": "stdout"
        }
      ]
    },
    {
      "cell_type": "code",
      "metadata": {
        "id": "2a5tBVkYCW6m",
        "colab_type": "code",
        "colab": {}
      },
      "source": [
        "easting_lowest = dataframe.sort_values(by='grid_ref_easting').reset_index()['grid_ref_easting'][0]\n",
        "northing_lowest = dataframe.sort_values(by='grid_ref_northing').reset_index()['grid_ref_northing'][0]\n",
        "\n",
        "easting_highest = dataframe.sort_values(by='grid_ref_easting').reset_index()['grid_ref_easting'][2432]\n",
        "northing_highest = dataframe.sort_values(by='grid_ref_northing').reset_index()['grid_ref_northing'][2432]\n",
        "\n",
        "easting_bins = [i for i in range(easting_lowest, easting_highest+4, 4)]\n",
        "northing_bins = [i for i in range(northing_lowest, northing_highest+4, 4)]\n",
        "\n",
        "dataframe['northing_binned'] = pd.cut(dataframe['grid_ref_northing'], northing_bins, include_lowest=True)\n",
        "dataframe['easting_binned'] = pd.cut(dataframe['grid_ref_easting'], easting_bins, include_lowest=True)\n"
      ],
      "execution_count": 0,
      "outputs": []
    },
    {
      "cell_type": "code",
      "metadata": {
        "id": "WelANwzMFTjX",
        "colab_type": "code",
        "outputId": "246ab058-7556-4ce1-cdbe-76afbfd8021c",
        "colab": {
          "base_uri": "https://localhost:8080/",
          "height": 35
        }
      },
      "source": [
        "easting_lowest"
      ],
      "execution_count": 0,
      "outputs": [
        {
          "output_type": "execute_result",
          "data": {
            "text/plain": [
              "414747"
            ]
          },
          "metadata": {
            "tags": []
          },
          "execution_count": 32
        }
      ]
    },
    {
      "cell_type": "code",
      "metadata": {
        "id": "4VA24P_MEjlI",
        "colab_type": "code",
        "outputId": "97180890-918c-448c-905f-2f2df3a18ce6",
        "colab": {
          "base_uri": "https://localhost:8080/",
          "height": 225
        }
      },
      "source": [
        "dataframe.sort_values(by='grid_ref_easting')['grid_ref_easting']"
      ],
      "execution_count": 0,
      "outputs": [
        {
          "output_type": "execute_result",
          "data": {
            "text/plain": [
              "2413    414747\n",
              "1034    415274\n",
              "1033    415274\n",
              "897     416576\n",
              "1564    417892\n",
              "         ...  \n",
              "1738    445376\n",
              "1739    445376\n",
              "399     445376\n",
              "1311    445500\n",
              "291     445576\n",
              "Name: grid_ref_easting, Length: 2433, dtype: int64"
            ]
          },
          "metadata": {
            "tags": []
          },
          "execution_count": 33
        }
      ]
    },
    {
      "cell_type": "code",
      "metadata": {
        "id": "C_aDGxC1FCeq",
        "colab_type": "code",
        "outputId": "851f389d-72e1-4836-9c34-7005b7c3bd79",
        "colab": {
          "base_uri": "https://localhost:8080/",
          "height": 399
        }
      },
      "source": [
        "dataframe.isnull().sum()"
      ],
      "execution_count": 0,
      "outputs": [
        {
          "output_type": "execute_result",
          "data": {
            "text/plain": [
              "id                     0\n",
              "reference_number       0\n",
              "grid_ref_easting       0\n",
              "grid_ref_northing      0\n",
              "number_of_vehicles     0\n",
              "time                   0\n",
              "1st_road_class         0\n",
              "road_surface           0\n",
              "lighting_conditions    0\n",
              "weather                0\n",
              "casualty               0\n",
              "class                  0\n",
              "casualty_severity      0\n",
              "sex_of_casualty        0\n",
              "age_of_casualty        0\n",
              "vehicle_type           0\n",
              "year                   0\n",
              "month                  0\n",
              "day                    0\n",
              "northing_binned        0\n",
              "easting_binned         0\n",
              "dtype: int64"
            ]
          },
          "metadata": {
            "tags": []
          },
          "execution_count": 34
        }
      ]
    },
    {
      "cell_type": "code",
      "metadata": {
        "colab_type": "code",
        "id": "Rr91QGYVBn16",
        "colab": {}
      },
      "source": [
        "\n",
        "f, ax = plt.subplots(figsize=(7, 7))\n",
        "sns.heatmap(dataframe.pivot(dataframe.groupby(['grid_ref_easting', 'grid_ref_northing']).size().unstack(fill_value=0)));"
      ],
      "execution_count": 0,
      "outputs": []
    },
    {
      "cell_type": "code",
      "metadata": {
        "id": "62SoVDHy_-2M",
        "colab_type": "code",
        "colab": {}
      },
      "source": [
        "pd.crosstab(dataframe.grid_ref_easting,dataframe.grid_ref_northing)"
      ],
      "execution_count": 0,
      "outputs": []
    },
    {
      "cell_type": "code",
      "metadata": {
        "id": "PI7AzKOC-V5k",
        "colab_type": "code",
        "outputId": "001810b8-4a95-423c-8fb2-51b4a4983c2e",
        "colab": {
          "base_uri": "https://localhost:8080/",
          "height": 705
        }
      },
      "source": [
        "\n",
        "f, ax = plt.subplots(figsize=(10, 10))\n",
        "sns.heatmap(dataframe.groupby(['northing_binned', 'easting_binned']).size().unstack(fill_value=0));"
      ],
      "execution_count": 0,
      "outputs": [
        {
          "output_type": "display_data",
          "data": {
            "image/png": "[encoded data removed]",
            "text/plain": [
              "<Figure size 720x720 with 2 Axes>"
            ]
          },
          "metadata": {
            "tags": []
          }
        }
      ]
    },
    {
      "cell_type": "code",
      "metadata": {
        "id": "uLyGGChE_YrU",
        "colab_type": "code",
        "outputId": "be22d858-9e53-45f8-df9b-27d65e6c2026",
        "colab": {
          "base_uri": "https://localhost:8080/",
          "height": 225
        }
      },
      "source": [
        "dataframe.sort_values(by='grid_ref_easting').reset_index()['grid_ref_easting']"
      ],
      "execution_count": 0,
      "outputs": [
        {
          "output_type": "execute_result",
          "data": {
            "text/plain": [
              "0       414747\n",
              "1       415274\n",
              "2       415274\n",
              "3       416576\n",
              "4       417892\n",
              "         ...  \n",
              "2428    445376\n",
              "2429    445376\n",
              "2430    445376\n",
              "2431    445500\n",
              "2432    445576\n",
              "Name: grid_ref_easting, Length: 2433, dtype: int64"
            ]
          },
          "metadata": {
            "tags": []
          },
          "execution_count": 5
        }
      ]
    },
    {
      "cell_type": "code",
      "metadata": {
        "id": "tvdKrLt_3MRq",
        "colab_type": "code",
        "colab": {}
      },
      "source": [
        "easting_lowest = dataframe.sort_values(by='grid_ref_easting').reset_index()['grid_ref_easting'][0]\n",
        "northing_lowest = dataframe.sort_values(by='grid_ref_northing').reset_index()['grid_ref_northing'][0]\n",
        "\n",
        "easting_highest = dataframe.sort_values(by='grid_ref_easting').reset_index()['grid_ref_easting'][2432]\n",
        "northing_highest = dataframe.sort_values(by='grid_ref_northing').reset_index()['grid_ref_northing'][2432]\n"
      ],
      "execution_count": 0,
      "outputs": []
    },
    {
      "cell_type": "code",
      "metadata": {
        "id": "k0ASjGmL6fpP",
        "colab_type": "code",
        "outputId": "6951cd9e-b0d5-4bdc-e70a-5148c93ed453",
        "colab": {
          "base_uri": "https://localhost:8080/",
          "height": 35
        }
      },
      "source": [
        "easting_lowest,northing_lowest"
      ],
      "execution_count": 0,
      "outputs": [
        {
          "output_type": "execute_result",
          "data": {
            "text/plain": [
              "(414747, 423490)"
            ]
          },
          "metadata": {
            "tags": []
          },
          "execution_count": 37
        }
      ]
    },
    {
      "cell_type": "code",
      "metadata": {
        "id": "V3_57n516iIb",
        "colab_type": "code",
        "outputId": "ce3ce00c-b43f-46a1-9590-895468d752b5",
        "colab": {
          "base_uri": "https://localhost:8080/",
          "height": 35
        }
      },
      "source": [
        "easting_highest,northing_highest"
      ],
      "execution_count": 0,
      "outputs": [
        {
          "output_type": "execute_result",
          "data": {
            "text/plain": [
              "(445576, 449480)"
            ]
          },
          "metadata": {
            "tags": []
          },
          "execution_count": 8
        }
      ]
    },
    {
      "cell_type": "code",
      "metadata": {
        "id": "0awanEzg6kg4",
        "colab_type": "code",
        "outputId": "efd93ca6-5985-4bb0-f29b-5d8ae4067c4b",
        "colab": {
          "base_uri": "https://localhost:8080/",
          "height": 35
        }
      },
      "source": [
        "414747- 423490"
      ],
      "execution_count": 0,
      "outputs": [
        {
          "output_type": "execute_result",
          "data": {
            "text/plain": [
              "-8743"
            ]
          },
          "metadata": {
            "tags": []
          },
          "execution_count": 9
        }
      ]
    },
    {
      "cell_type": "code",
      "metadata": {
        "id": "ZI9AJCce6rwp",
        "colab_type": "code",
        "outputId": "df9316a8-5bca-4586-cc00-cd010a04b71e",
        "colab": {
          "base_uri": "https://localhost:8080/",
          "height": 35
        }
      },
      "source": [
        "445576-449480"
      ],
      "execution_count": 0,
      "outputs": [
        {
          "output_type": "execute_result",
          "data": {
            "text/plain": [
              "-3904"
            ]
          },
          "metadata": {
            "tags": []
          },
          "execution_count": 10
        }
      ]
    },
    {
      "cell_type": "code",
      "metadata": {
        "id": "_IDSC88Y6xNT",
        "colab_type": "code",
        "colab": {}
      },
      "source": [
        "Latitude from 5.94851 to 9.81667 and longitude from 79.79528 to 81.84198."
      ],
      "execution_count": 0,
      "outputs": []
    },
    {
      "cell_type": "code",
      "metadata": {
        "id": "4VpRAqcY7TCr",
        "colab_type": "code",
        "colab": {}
      },
      "source": [
        "def convert_northing(gri_ref_north):\n",
        "  input_start = 423490\n",
        "  input_end = 449480\n",
        "  output_start = 5.94851\n",
        "  output_end   = 9.81667\n",
        "  output = output_start + ((output_end - output_start) / (input_end - input_start)) * (gri_ref_north - input_start)\n",
        "  return output\n",
        "\n",
        "def convert_easting(gri_ref_east):\n",
        "  input_start = 414747\n",
        "  input_end = 445576\n",
        "  output_start = 79.79528\n",
        "  output_end   = 81.84198\n",
        "  output = output_start + ((output_end - output_start) / (input_end - input_start)) * (gri_ref_east - input_start)\n",
        "  return output"
      ],
      "execution_count": 0,
      "outputs": []
    },
    {
      "cell_type": "code",
      "metadata": {
        "id": "4UDVJTkY8t0v",
        "colab_type": "code",
        "colab": {}
      },
      "source": [
        "dataframe['lat'] = dataframe['grid_ref_northing'].apply(convert_northing)\n",
        "dataframe['long'] = dataframe['grid_ref_easting'].apply(convert_easting)"
      ],
      "execution_count": 0,
      "outputs": []
    },
    {
      "cell_type": "code",
      "metadata": {
        "id": "-vfb5D-P9Gpq",
        "colab_type": "code",
        "outputId": "439123f1-0f88-4ef2-9fdb-cd12d478cf22",
        "colab": {
          "base_uri": "https://localhost:8080/",
          "height": 295
        }
      },
      "source": [
        "dataframe.head(4)"
      ],
      "execution_count": 0,
      "outputs": [
        {
          "output_type": "execute_result",
          "data": {
            "text/html": [
              "<div>\n",
              "<style scoped>\n",
              "    .dataframe tbody tr th:only-of-type {\n",
              "        vertical-align: middle;\n",
              "    }\n",
              "\n",
              "    .dataframe tbody tr th {\n",
              "        vertical-align: top;\n",
              "    }\n",
              "\n",
              "    .dataframe thead th {\n",
              "        text-align: right;\n",
              "    }\n",
              "</style>\n",
              "<table border=\"1\" class=\"dataframe\">\n",
              "  <thead>\n",
              "    <tr style=\"text-align: right;\">\n",
              "      <th></th>\n",
              "      <th>id</th>\n",
              "      <th>reference_number</th>\n",
              "      <th>grid_ref_easting</th>\n",
              "      <th>grid_ref_northing</th>\n",
              "      <th>number_of_vehicles</th>\n",
              "      <th>time</th>\n",
              "      <th>1st_road_class</th>\n",
              "      <th>road_surface</th>\n",
              "      <th>lighting_conditions</th>\n",
              "      <th>weather</th>\n",
              "      <th>casualty</th>\n",
              "      <th>class</th>\n",
              "      <th>casualty_severity</th>\n",
              "      <th>sex_of_casualty</th>\n",
              "      <th>age_of_casualty</th>\n",
              "      <th>vehicle_type</th>\n",
              "      <th>year</th>\n",
              "      <th>month</th>\n",
              "      <th>day</th>\n",
              "      <th>northing_binned</th>\n",
              "      <th>easting_binned</th>\n",
              "      <th>lat</th>\n",
              "      <th>long</th>\n",
              "    </tr>\n",
              "  </thead>\n",
              "  <tbody>\n",
              "    <tr>\n",
              "      <th>0</th>\n",
              "      <td>1</td>\n",
              "      <td>130021591</td>\n",
              "      <td>426983</td>\n",
              "      <td>433434</td>\n",
              "      <td>3</td>\n",
              "      <td>1545</td>\n",
              "      <td>Unclassified</td>\n",
              "      <td>Dry</td>\n",
              "      <td>Daylight: street lights present</td>\n",
              "      <td>Weather Conditions</td>\n",
              "      <td>1</td>\n",
              "      <td>Driver</td>\n",
              "      <td>Slight</td>\n",
              "      <td>Male</td>\n",
              "      <td>42</td>\n",
              "      <td>Car</td>\n",
              "      <td>13</td>\n",
              "      <td>Jan</td>\n",
              "      <td>15</td>\n",
              "      <td>(433430.0, 433434.0]</td>\n",
              "      <td>(426979.0, 426983.0]</td>\n",
              "      <td>7.428502</td>\n",
              "      <td>80.607613</td>\n",
              "    </tr>\n",
              "    <tr>\n",
              "      <th>1</th>\n",
              "      <td>2</td>\n",
              "      <td>130021629</td>\n",
              "      <td>424366</td>\n",
              "      <td>445442</td>\n",
              "      <td>2</td>\n",
              "      <td>1640</td>\n",
              "      <td>A</td>\n",
              "      <td>Frost / Ice</td>\n",
              "      <td>Darkness: street lights present and lit</td>\n",
              "      <td>Weather Conditions</td>\n",
              "      <td>2</td>\n",
              "      <td>Passenger</td>\n",
              "      <td>Slight</td>\n",
              "      <td>Female</td>\n",
              "      <td>78</td>\n",
              "      <td>Car</td>\n",
              "      <td>13</td>\n",
              "      <td>Jan</td>\n",
              "      <td>15</td>\n",
              "      <td>(445438.0, 445442.0]</td>\n",
              "      <td>(424363.0, 424367.0]</td>\n",
              "      <td>9.215684</td>\n",
              "      <td>80.433874</td>\n",
              "    </tr>\n",
              "    <tr>\n",
              "      <th>2</th>\n",
              "      <td>3</td>\n",
              "      <td>130021704</td>\n",
              "      <td>424481</td>\n",
              "      <td>435632</td>\n",
              "      <td>2</td>\n",
              "      <td>1345</td>\n",
              "      <td>Unclassified</td>\n",
              "      <td>Wet / Damp</td>\n",
              "      <td>Daylight: street lights present</td>\n",
              "      <td>Weather Conditions</td>\n",
              "      <td>1</td>\n",
              "      <td>Driver</td>\n",
              "      <td>Serious</td>\n",
              "      <td>Male</td>\n",
              "      <td>34</td>\n",
              "      <td>Motorcycle over 125cc and up to 500cc</td>\n",
              "      <td>13</td>\n",
              "      <td>Jan</td>\n",
              "      <td>13</td>\n",
              "      <td>(435630.0, 435634.0]</td>\n",
              "      <td>(424479.0, 424483.0]</td>\n",
              "      <td>7.755636</td>\n",
              "      <td>80.441508</td>\n",
              "    </tr>\n",
              "    <tr>\n",
              "      <th>3</th>\n",
              "      <td>4</td>\n",
              "      <td>130022047</td>\n",
              "      <td>430284</td>\n",
              "      <td>432421</td>\n",
              "      <td>1</td>\n",
              "      <td>1313</td>\n",
              "      <td>Unclassified</td>\n",
              "      <td>Dry</td>\n",
              "      <td>Daylight: street lights present</td>\n",
              "      <td>Weather Conditions</td>\n",
              "      <td>3</td>\n",
              "      <td>Pedestrian</td>\n",
              "      <td>Slight</td>\n",
              "      <td>Male</td>\n",
              "      <td>47</td>\n",
              "      <td>Car</td>\n",
              "      <td>13</td>\n",
              "      <td>Jan</td>\n",
              "      <td>15</td>\n",
              "      <td>(432418.0, 432422.0]</td>\n",
              "      <td>(430283.0, 430287.0]</td>\n",
              "      <td>7.277734</td>\n",
              "      <td>80.826763</td>\n",
              "    </tr>\n",
              "  </tbody>\n",
              "</table>\n",
              "</div>"
            ],
            "text/plain": [
              "   id reference_number  ...       lat       long\n",
              "0   1        130021591  ...  7.428502  80.607613\n",
              "1   2        130021629  ...  9.215684  80.433874\n",
              "2   3        130021704  ...  7.755636  80.441508\n",
              "3   4        130022047  ...  7.277734  80.826763\n",
              "\n",
              "[4 rows x 23 columns]"
            ]
          },
          "metadata": {
            "tags": []
          },
          "execution_count": 40
        }
      ]
    },
    {
      "cell_type": "code",
      "metadata": {
        "id": "b0fTKZWJ9Iaz",
        "colab_type": "code",
        "outputId": "93dd8b55-eede-4ff4-fabe-c0210af56ad4",
        "colab": {
          "base_uri": "https://localhost:8080/",
          "height": 35
        }
      },
      "source": [
        "#Bins for lat long\n",
        "7.428983-7.435636"
      ],
      "execution_count": 0,
      "outputs": [
        {
          "output_type": "execute_result",
          "data": {
            "text/plain": [
              "-0.00665300000000002"
            ]
          },
          "metadata": {
            "tags": []
          },
          "execution_count": 41
        }
      ]
    },
    {
      "cell_type": "code",
      "metadata": {
        "id": "qZrmrdAxW_C3",
        "colab_type": "code",
        "outputId": "31afea25-8580-437d-9e52-db7a0e4bdf7e",
        "colab": {
          "base_uri": "https://localhost:8080/",
          "height": 35
        }
      },
      "source": [
        "80.601508-80.607613"
      ],
      "execution_count": 0,
      "outputs": [
        {
          "output_type": "execute_result",
          "data": {
            "text/plain": [
              "-0.006105000000005134"
            ]
          },
          "metadata": {
            "tags": []
          },
          "execution_count": 42
        }
      ]
    },
    {
      "cell_type": "code",
      "metadata": {
        "id": "d85V4Os0XCqU",
        "colab_type": "code",
        "colab": {}
      },
      "source": [
        "lat_lowest = dataframe.sort_values(by='lat').reset_index()['lat'][0]\n",
        "long_lowest = dataframe.sort_values(by='long').reset_index()['long'][0]\n",
        "\n",
        "lat_highest = dataframe.sort_values(by='lat').reset_index()['lat'][2432]\n",
        "long_highest = dataframe.sort_values(by='long').reset_index()['long'][2432]\n",
        "\n",
        "lat_bins = []\n",
        "lat = lat_lowest\n",
        "while lat<=lat_highest:\n",
        "  lat_bins.append(lat)\n",
        "  lat+= 0.006653\n",
        "\n",
        "long_bins = []\n",
        "long = long_lowest\n",
        "while long<=long_highest:\n",
        "  long_bins.append(long)\n",
        "  long += 0.006105\n",
        "\n",
        "dataframe['lat_binned'] = pd.cut(dataframe['lat'], lat_bins, include_lowest=True)\n",
        "dataframe['long_binned'] = pd.cut(dataframe['long'], long_bins, include_lowest=True)\n"
      ],
      "execution_count": 0,
      "outputs": []
    },
    {
      "cell_type": "code",
      "metadata": {
        "id": "jGIk7VYLXy5L",
        "colab_type": "code",
        "outputId": "0e3662de-ea7f-4089-c499-0c1c0d22cbdb",
        "colab": {
          "base_uri": "https://localhost:8080/",
          "height": 378
        }
      },
      "source": [
        "dataframe.head()"
      ],
      "execution_count": 0,
      "outputs": [
        {
          "output_type": "execute_result",
          "data": {
            "text/html": [
              "<div>\n",
              "<style scoped>\n",
              "    .dataframe tbody tr th:only-of-type {\n",
              "        vertical-align: middle;\n",
              "    }\n",
              "\n",
              "    .dataframe tbody tr th {\n",
              "        vertical-align: top;\n",
              "    }\n",
              "\n",
              "    .dataframe thead th {\n",
              "        text-align: right;\n",
              "    }\n",
              "</style>\n",
              "<table border=\"1\" class=\"dataframe\">\n",
              "  <thead>\n",
              "    <tr style=\"text-align: right;\">\n",
              "      <th></th>\n",
              "      <th>id</th>\n",
              "      <th>reference_number</th>\n",
              "      <th>grid_ref_easting</th>\n",
              "      <th>grid_ref_northing</th>\n",
              "      <th>number_of_vehicles</th>\n",
              "      <th>time</th>\n",
              "      <th>1st_road_class</th>\n",
              "      <th>road_surface</th>\n",
              "      <th>lighting_conditions</th>\n",
              "      <th>weather</th>\n",
              "      <th>casualty</th>\n",
              "      <th>class</th>\n",
              "      <th>casualty_severity</th>\n",
              "      <th>sex_of_casualty</th>\n",
              "      <th>age_of_casualty</th>\n",
              "      <th>vehicle_type</th>\n",
              "      <th>year</th>\n",
              "      <th>month</th>\n",
              "      <th>day</th>\n",
              "      <th>northing_binned</th>\n",
              "      <th>easting_binned</th>\n",
              "      <th>lat</th>\n",
              "      <th>long</th>\n",
              "      <th>lat_binned</th>\n",
              "      <th>long_binned</th>\n",
              "    </tr>\n",
              "  </thead>\n",
              "  <tbody>\n",
              "    <tr>\n",
              "      <th>0</th>\n",
              "      <td>1</td>\n",
              "      <td>130021591</td>\n",
              "      <td>426983</td>\n",
              "      <td>433434</td>\n",
              "      <td>3</td>\n",
              "      <td>1545</td>\n",
              "      <td>Unclassified</td>\n",
              "      <td>Dry</td>\n",
              "      <td>Daylight: street lights present</td>\n",
              "      <td>Weather Conditions</td>\n",
              "      <td>1</td>\n",
              "      <td>Driver</td>\n",
              "      <td>Slight</td>\n",
              "      <td>Male</td>\n",
              "      <td>42</td>\n",
              "      <td>Car</td>\n",
              "      <td>13</td>\n",
              "      <td>Jan</td>\n",
              "      <td>15</td>\n",
              "      <td>(433430.0, 433434.0]</td>\n",
              "      <td>(426979.0, 426983.0]</td>\n",
              "      <td>7.428502</td>\n",
              "      <td>80.607613</td>\n",
              "      <td>(7.425, 7.432]</td>\n",
              "      <td>(80.607, 80.613]</td>\n",
              "    </tr>\n",
              "    <tr>\n",
              "      <th>1</th>\n",
              "      <td>2</td>\n",
              "      <td>130021629</td>\n",
              "      <td>424366</td>\n",
              "      <td>445442</td>\n",
              "      <td>2</td>\n",
              "      <td>1640</td>\n",
              "      <td>A</td>\n",
              "      <td>Frost / Ice</td>\n",
              "      <td>Darkness: street lights present and lit</td>\n",
              "      <td>Weather Conditions</td>\n",
              "      <td>2</td>\n",
              "      <td>Passenger</td>\n",
              "      <td>Slight</td>\n",
              "      <td>Female</td>\n",
              "      <td>78</td>\n",
              "      <td>Car</td>\n",
              "      <td>13</td>\n",
              "      <td>Jan</td>\n",
              "      <td>15</td>\n",
              "      <td>(445438.0, 445442.0]</td>\n",
              "      <td>(424363.0, 424367.0]</td>\n",
              "      <td>9.215684</td>\n",
              "      <td>80.433874</td>\n",
              "      <td>(9.215, 9.222]</td>\n",
              "      <td>(80.43, 80.436]</td>\n",
              "    </tr>\n",
              "    <tr>\n",
              "      <th>2</th>\n",
              "      <td>3</td>\n",
              "      <td>130021704</td>\n",
              "      <td>424481</td>\n",
              "      <td>435632</td>\n",
              "      <td>2</td>\n",
              "      <td>1345</td>\n",
              "      <td>Unclassified</td>\n",
              "      <td>Wet / Damp</td>\n",
              "      <td>Daylight: street lights present</td>\n",
              "      <td>Weather Conditions</td>\n",
              "      <td>1</td>\n",
              "      <td>Driver</td>\n",
              "      <td>Serious</td>\n",
              "      <td>Male</td>\n",
              "      <td>34</td>\n",
              "      <td>Motorcycle over 125cc and up to 500cc</td>\n",
              "      <td>13</td>\n",
              "      <td>Jan</td>\n",
              "      <td>13</td>\n",
              "      <td>(435630.0, 435634.0]</td>\n",
              "      <td>(424479.0, 424483.0]</td>\n",
              "      <td>7.755636</td>\n",
              "      <td>80.441508</td>\n",
              "      <td>(7.751, 7.758]</td>\n",
              "      <td>(80.436, 80.442]</td>\n",
              "    </tr>\n",
              "    <tr>\n",
              "      <th>3</th>\n",
              "      <td>4</td>\n",
              "      <td>130022047</td>\n",
              "      <td>430284</td>\n",
              "      <td>432421</td>\n",
              "      <td>1</td>\n",
              "      <td>1313</td>\n",
              "      <td>Unclassified</td>\n",
              "      <td>Dry</td>\n",
              "      <td>Daylight: street lights present</td>\n",
              "      <td>Weather Conditions</td>\n",
              "      <td>3</td>\n",
              "      <td>Pedestrian</td>\n",
              "      <td>Slight</td>\n",
              "      <td>Male</td>\n",
              "      <td>47</td>\n",
              "      <td>Car</td>\n",
              "      <td>13</td>\n",
              "      <td>Jan</td>\n",
              "      <td>15</td>\n",
              "      <td>(432418.0, 432422.0]</td>\n",
              "      <td>(430283.0, 430287.0]</td>\n",
              "      <td>7.277734</td>\n",
              "      <td>80.826763</td>\n",
              "      <td>(7.272, 7.279]</td>\n",
              "      <td>(80.821, 80.827]</td>\n",
              "    </tr>\n",
              "    <tr>\n",
              "      <th>4</th>\n",
              "      <td>5</td>\n",
              "      <td>130023385</td>\n",
              "      <td>430374</td>\n",
              "      <td>433485</td>\n",
              "      <td>1</td>\n",
              "      <td>2015</td>\n",
              "      <td>Unclassified</td>\n",
              "      <td>Dry</td>\n",
              "      <td>Darkness: street lights present and lit</td>\n",
              "      <td>Weather Conditions</td>\n",
              "      <td>2</td>\n",
              "      <td>Passenger</td>\n",
              "      <td>Serious</td>\n",
              "      <td>Male</td>\n",
              "      <td>65</td>\n",
              "      <td>Bus or coach (17 or more passenger seats)</td>\n",
              "      <td>13</td>\n",
              "      <td>Jan</td>\n",
              "      <td>16</td>\n",
              "      <td>(433482.0, 433486.0]</td>\n",
              "      <td>(430371.0, 430375.0]</td>\n",
              "      <td>7.436092</td>\n",
              "      <td>80.832738</td>\n",
              "      <td>(7.432, 7.439]</td>\n",
              "      <td>(80.827, 80.833]</td>\n",
              "    </tr>\n",
              "  </tbody>\n",
              "</table>\n",
              "</div>"
            ],
            "text/plain": [
              "   id reference_number  ...      lat_binned       long_binned\n",
              "0   1        130021591  ...  (7.425, 7.432]  (80.607, 80.613]\n",
              "1   2        130021629  ...  (9.215, 9.222]   (80.43, 80.436]\n",
              "2   3        130021704  ...  (7.751, 7.758]  (80.436, 80.442]\n",
              "3   4        130022047  ...  (7.272, 7.279]  (80.821, 80.827]\n",
              "4   5        130023385  ...  (7.432, 7.439]  (80.827, 80.833]\n",
              "\n",
              "[5 rows x 25 columns]"
            ]
          },
          "metadata": {
            "tags": []
          },
          "execution_count": 48
        }
      ]
    },
    {
      "cell_type": "code",
      "metadata": {
        "id": "xc2RtBOPZRVu",
        "colab_type": "code",
        "outputId": "75fd3577-d6a6-4d16-b60f-6d1fd4ca4857",
        "colab": {
          "base_uri": "https://localhost:8080/",
          "height": 684
        }
      },
      "source": [
        "f, ax = plt.subplots(figsize=(10, 10))\n",
        "sns.heatmap(dataframe.groupby(['lat_binned', 'long_binned']).size().unstack(fill_value=0));"
      ],
      "execution_count": 0,
      "outputs": [
        {
          "output_type": "display_data",
          "data": {
            "image/png": "[encoded data removed]",
            "text/plain": [
              "<Figure size 720x720 with 2 Axes>"
            ]
          },
          "metadata": {
            "tags": []
          }
        }
      ]
    },
    {
      "cell_type": "code",
      "metadata": {
        "id": "wRIqPu3qZqE9",
        "colab_type": "code",
        "colab": {}
      },
      "source": [
        "dataFrame = dataframe.copy()"
      ],
      "execution_count": 0,
      "outputs": []
    },
    {
      "cell_type": "code",
      "metadata": {
        "id": "Kjtb0_RVagrM",
        "colab_type": "code",
        "colab": {}
      },
      "source": [
        "from sklearn import preprocessing \n",
        "  \n",
        "# label_encoder object knows how to understand word labels. \n",
        "label_encoder = preprocessing.LabelEncoder() \n",
        "\n"
      ],
      "execution_count": 0,
      "outputs": []
    }
  ]
}